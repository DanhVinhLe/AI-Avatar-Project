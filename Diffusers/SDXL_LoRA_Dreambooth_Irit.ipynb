{
 "cells": [
  {
   "cell_type": "code",
   "execution_count": null,
   "metadata": {
    "execution": {
     "iopub.execute_input": "2025-05-05T13:55:31.363156Z",
     "iopub.status.busy": "2025-05-05T13:55:31.362603Z",
     "iopub.status.idle": "2025-05-05T13:55:37.550025Z",
     "shell.execute_reply": "2025-05-05T13:55:37.549102Z",
     "shell.execute_reply.started": "2025-05-05T13:55:31.363130Z"
    },
    "trusted": true
   },
   "outputs": [],
   "source": [
    "!git clone https://github.com/huggingface/diffusers"
   ]
  },
  {
   "cell_type": "code",
   "execution_count": null,
   "metadata": {
    "execution": {
     "iopub.execute_input": "2025-05-05T13:55:37.551605Z",
     "iopub.status.busy": "2025-05-05T13:55:37.551382Z",
     "iopub.status.idle": "2025-05-05T13:55:37.558010Z",
     "shell.execute_reply": "2025-05-05T13:55:37.557385Z",
     "shell.execute_reply.started": "2025-05-05T13:55:37.551584Z"
    },
    "trusted": true
   },
   "outputs": [],
   "source": [
    "%cd diffusers"
   ]
  },
  {
   "cell_type": "code",
   "execution_count": null,
   "metadata": {
    "execution": {
     "iopub.execute_input": "2025-05-05T13:55:37.558816Z",
     "iopub.status.busy": "2025-05-05T13:55:37.558626Z",
     "iopub.status.idle": "2025-05-05T13:55:47.866349Z",
     "shell.execute_reply": "2025-05-05T13:55:47.865454Z",
     "shell.execute_reply.started": "2025-05-05T13:55:37.558803Z"
    },
    "trusted": true
   },
   "outputs": [],
   "source": [
    "!pip install -e ."
   ]
  },
  {
   "cell_type": "code",
   "execution_count": null,
   "metadata": {
    "collapsed": true,
    "execution": {
     "iopub.execute_input": "2025-05-05T13:55:47.869168Z",
     "iopub.status.busy": "2025-05-05T13:55:47.868873Z",
     "iopub.status.idle": "2025-05-05T13:56:56.840852Z",
     "shell.execute_reply": "2025-05-05T13:56:56.839820Z",
     "shell.execute_reply.started": "2025-05-05T13:55:47.869139Z"
    },
    "jupyter": {
     "outputs_hidden": true
    },
    "trusted": true
   },
   "outputs": [],
   "source": [
    "!pip install -r examples/dreambooth/requirements_sdxl.txt"
   ]
  },
  {
   "cell_type": "code",
   "execution_count": null,
   "metadata": {
    "execution": {
     "iopub.execute_input": "2025-05-05T13:56:56.842121Z",
     "iopub.status.busy": "2025-05-05T13:56:56.841829Z",
     "iopub.status.idle": "2025-05-05T13:57:04.186615Z",
     "shell.execute_reply": "2025-05-05T13:57:04.185914Z",
     "shell.execute_reply.started": "2025-05-05T13:56:56.842090Z"
    },
    "trusted": true
   },
   "outputs": [],
   "source": [
    "!pip install bitsandbytes"
   ]
  },
  {
   "cell_type": "code",
   "execution_count": null,
   "metadata": {
    "execution": {
     "iopub.execute_input": "2025-05-05T13:57:04.187876Z",
     "iopub.status.busy": "2025-05-05T13:57:04.187558Z",
     "iopub.status.idle": "2025-05-05T13:57:06.837425Z",
     "shell.execute_reply": "2025-05-05T13:57:06.836697Z",
     "shell.execute_reply.started": "2025-05-05T13:57:04.187844Z"
    },
    "trusted": true
   },
   "outputs": [],
   "source": [
    "from accelerate.utils import write_basic_config\n",
    "write_basic_config()"
   ]
  },
  {
   "cell_type": "code",
   "execution_count": null,
   "metadata": {
    "execution": {
     "iopub.execute_input": "2025-05-05T13:57:06.838711Z",
     "iopub.status.busy": "2025-05-05T13:57:06.838255Z",
     "iopub.status.idle": "2025-05-05T13:57:14.986494Z",
     "shell.execute_reply": "2025-05-05T13:57:14.985882Z",
     "shell.execute_reply.started": "2025-05-05T13:57:06.838686Z"
    },
    "trusted": true
   },
   "outputs": [],
   "source": [
    "import wandb\n",
    "wandb.login(key = \"wandb_api_key\") # replace with your wandb key"
   ]
  },
  {
   "cell_type": "code",
   "execution_count": null,
   "metadata": {
    "execution": {
     "iopub.execute_input": "2025-05-05T13:57:14.987770Z",
     "iopub.status.busy": "2025-05-05T13:57:14.987287Z",
     "iopub.status.idle": "2025-05-05T16:06:53.016549Z",
     "shell.execute_reply": "2025-05-05T16:06:53.015783Z",
     "shell.execute_reply.started": "2025-05-05T13:57:14.987744Z"
    },
    "trusted": true
   },
   "outputs": [],
   "source": [
    "!accelerate launch examples/dreambooth/train_dreambooth_lora_sdxl.py \\\n",
    "    --pretrained_model_name_or_path=\"stabilityai/stable-diffusion-xl-base-1.0\" \\\n",
    "    --instance_data_dir=\"image_data_dir\" \\\n",
    "    --output_dir=\"/kaggle/working/irit_lora\" \\\n",
    "    --mixed_precision=\"bf16\" \\\n",
    "    --instance_prompt=\"a photo of owhn woman\" \\\n",
    "    --seed=\"0\" \\\n",
    "    --resolution=1024 \\\n",
    "    --train_batch_size=1 \\\n",
    "    --gradient_accumulation_steps=1 \\\n",
    "    --learning_rate=1e-4 \\\n",
    "    --report_to=\"wandb\" \\\n",
    "    --lr_scheduler=\"constant\" \\\n",
    "    --lr_warmup_steps=0 \\\n",
    "    --num_train_epochs=20 \\\n",
    "    --validation_epochs=4 \\\n",
    "    --num_validation_images=2 \\\n",
    "    --repeats=5 \\\n",
    "    --checkpointing_steps=180 \\\n",
    "    --seed=\"0\" \\\n",
    "    --use_8bit_adam \\\n",
    "    --rank=64 \\\n",
    "    --gradient_checkpointing \\\n",
    "    --train_text_encoder \\\n",
    "    --text_encoder_lr=5e-6 \\\n",
    "    --validation_prompt=\"a professional photo portrait of owhn woman holding flowers, model photoshoot, professional photo, white background, Amazing Details, Best Quality, Masterpiece, dramatic lighting highly detailed, analog photo, overglaze\""
   ]
  },
  {
   "cell_type": "code",
   "execution_count": null,
   "metadata": {
    "execution": {
     "iopub.execute_input": "2025-05-05T16:07:17.281448Z",
     "iopub.status.busy": "2025-05-05T16:07:17.280918Z",
     "iopub.status.idle": "2025-05-05T16:07:17.285600Z",
     "shell.execute_reply": "2025-05-05T16:07:17.284882Z",
     "shell.execute_reply.started": "2025-05-05T16:07:17.281424Z"
    },
    "trusted": true
   },
   "outputs": [],
   "source": [
    "%cd /kaggle/working"
   ]
  },
  {
   "cell_type": "code",
   "execution_count": 13,
   "metadata": {
    "execution": {
     "iopub.execute_input": "2025-05-05T16:07:17.515401Z",
     "iopub.status.busy": "2025-05-05T16:07:17.515011Z",
     "iopub.status.idle": "2025-05-05T16:07:17.645040Z",
     "shell.execute_reply": "2025-05-05T16:07:17.644071Z",
     "shell.execute_reply.started": "2025-05-05T16:07:17.515384Z"
    },
    "trusted": true
   },
   "outputs": [],
   "source": [
    "!rm -rf diffusers"
   ]
  },
  {
   "cell_type": "code",
   "execution_count": 14,
   "metadata": {
    "execution": {
     "iopub.execute_input": "2025-05-05T16:07:17.783376Z",
     "iopub.status.busy": "2025-05-05T16:07:17.782945Z",
     "iopub.status.idle": "2025-05-05T16:07:17.787449Z",
     "shell.execute_reply": "2025-05-05T16:07:17.786794Z",
     "shell.execute_reply.started": "2025-05-05T16:07:17.783351Z"
    },
    "trusted": true
   },
   "outputs": [],
   "source": [
    "import sys\n",
    "\n",
    "# Xoá module diffusers khỏi cache\n",
    "if \"diffusers\" in sys.modules:\n",
    "    del sys.modules[\"diffusers\"]\n",
    "\n",
    "# Loại bỏ tất cả đường dẫn trỏ đến local diffusers\n",
    "sys.path = [p for p in sys.path if \"diffusers\" not in p]"
   ]
  },
  {
   "cell_type": "code",
   "execution_count": null,
   "metadata": {
    "execution": {
     "iopub.execute_input": "2025-05-05T16:07:19.831920Z",
     "iopub.status.busy": "2025-05-05T16:07:19.831424Z",
     "iopub.status.idle": "2025-05-05T16:07:46.493270Z",
     "shell.execute_reply": "2025-05-05T16:07:46.492352Z",
     "shell.execute_reply.started": "2025-05-05T16:07:19.831892Z"
    },
    "trusted": true
   },
   "outputs": [],
   "source": [
    "!pip install git+https://github.com/huggingface/diffusers.git --quiet"
   ]
  },
  {
   "cell_type": "code",
   "execution_count": null,
   "metadata": {
    "execution": {
     "iopub.execute_input": "2025-05-05T16:07:46.495401Z",
     "iopub.status.busy": "2025-05-05T16:07:46.495141Z",
     "iopub.status.idle": "2025-05-05T16:09:56.647253Z",
     "shell.execute_reply": "2025-05-05T16:09:56.646678Z",
     "shell.execute_reply.started": "2025-05-05T16:07:46.495381Z"
    },
    "trusted": true
   },
   "outputs": [],
   "source": [
    "from diffusers import DiffusionPipeline\n",
    "import torch\n",
    "base_model_id = \"stabilityai/stable-diffusion-xl-base-1.0\"\n",
    "pipe = DiffusionPipeline.from_pretrained(base_model_id, torch_dtype=torch.float16)\n",
    "pipe = pipe.to(\"cuda\")\n",
    "lora_model_id = \"/kaggle/working/irit_lora\"\n",
    "pipe.load_lora_weights(lora_model_id)\n",
    "prompt = \"a professional photo portrait of owhn woman holding flowers, model photoshoot, professional photo, white background, Amazing Details, Best Quality, Masterpiece, dramatic lighting highly detailed, analog photo, overglaze, 80mm Sigma f/1.4 or any ZEISS lens\"\n",
    "negative_prompt = \"asian, , , multiple heads, 2 heads, elongated body, double image, 2 faces, multiple people, double head, , (nsfw)+, naked, nude, porn, (deformed iris, deformed pupils, semi-realistic, cgi, 3d, render, sketch, cartoon, drawing, anime:1.4), text, close up\"\n",
    "image = pipe(prompt, negative_prompt = negative_prompt, num_inference_steps=50).images[0]"
   ]
  },
  {
   "cell_type": "code",
   "execution_count": null,
   "metadata": {
    "execution": {
     "iopub.execute_input": "2025-05-05T16:09:56.648692Z",
     "iopub.status.busy": "2025-05-05T16:09:56.647931Z",
     "iopub.status.idle": "2025-05-05T16:09:56.816608Z",
     "shell.execute_reply": "2025-05-05T16:09:56.815503Z",
     "shell.execute_reply.started": "2025-05-05T16:09:56.648661Z"
    },
    "trusted": true
   },
   "outputs": [],
   "source": [
    "image"
   ]
  },
  {
   "cell_type": "code",
   "execution_count": null,
   "metadata": {
    "trusted": true
   },
   "outputs": [],
   "source": [
    "import os \n",
    "import numpy as np \n",
    "output_dir = \"/kaggle/working/generated_images\"\n",
    "os.makedirs(output_dir, exist_ok=True)\n",
    "prompt = \"a professional photo portrait of owhn woman holding flowers, model photoshoot, professional photo, white background, Amazing Details, Best Quality, Masterpiece, dramatic lighting highly detailed, analog photo, overglaze, 80mm Sigma f/1.4 or any ZEISS lens\"\n",
    "negative_prompt = \"asian, , , multiple heads, 2 heads, elongated body, double image, 2 faces, multiple people, double head, , (nsfw)+, naked, nude, porn, (deformed iris, deformed pupils, semi-realistic, cgi, 3d, render, sketch, cartoon, drawing, anime:1.4), text, close up\"\n",
    "for i in range(20):\n",
    "    seed = np.random.randint(0, 999999)\n",
    "    generator = torch.manual_seed(seed)\n",
    "    image = pipe(prompt, negative_prompt = negative_prompt, num_inference_steps=100, guidance_scale=8, generator=generator).images[0]\n",
    "    image.save(f\"{output_dir}/image_{i+1:02d}_seed{seed}.png\")"
   ]
  }
 ],
 "metadata": {
  "kaggle": {
   "accelerator": "gpu",
   "dataSources": [
    {
     "datasetId": 7296013,
     "sourceId": 11628995,
     "sourceType": "datasetVersion"
    }
   ],
   "dockerImageVersionId": 31011,
   "isGpuEnabled": true,
   "isInternetEnabled": true,
   "language": "python",
   "sourceType": "notebook"
  },
  "kernelspec": {
   "display_name": "Python 3",
   "language": "python",
   "name": "python3"
  },
  "language_info": {
   "codemirror_mode": {
    "name": "ipython",
    "version": 3
   },
   "file_extension": ".py",
   "mimetype": "text/x-python",
   "name": "python",
   "nbconvert_exporter": "python",
   "pygments_lexer": "ipython3",
   "version": "3.11.11"
  }
 },
 "nbformat": 4,
 "nbformat_minor": 4
}
