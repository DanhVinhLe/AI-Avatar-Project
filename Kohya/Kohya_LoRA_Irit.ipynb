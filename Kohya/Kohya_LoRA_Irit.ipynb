{
 "cells": [
  {
   "cell_type": "code",
   "execution_count": 1,
   "id": "2c9b8868",
   "metadata": {
    "execution": {
     "iopub.execute_input": "2025-05-05T17:53:04.223029Z",
     "iopub.status.busy": "2025-05-05T17:53:04.222447Z",
     "iopub.status.idle": "2025-05-05T17:53:09.051983Z",
     "shell.execute_reply": "2025-05-05T17:53:09.051162Z"
    },
    "papermill": {
     "duration": 4.835173,
     "end_time": "2025-05-05T17:53:09.053516",
     "exception": false,
     "start_time": "2025-05-05T17:53:04.218343",
     "status": "completed"
    },
    "tags": []
   },
   "outputs": [],
   "source": [
    "import torch\n",
    "import numpy as np \n",
    "import os \n",
    "import diffusers\n",
    "import transformers\n",
    "import shutil\n",
    "from IPython.display import display"
   ]
  },
  {
   "cell_type": "code",
   "execution_count": null,
   "id": "68fd069e",
   "metadata": {
    "execution": {
     "iopub.execute_input": "2025-05-05T17:53:09.060050Z",
     "iopub.status.busy": "2025-05-05T17:53:09.059709Z",
     "iopub.status.idle": "2025-05-05T17:53:10.865551Z",
     "shell.execute_reply": "2025-05-05T17:53:10.864761Z"
    },
    "papermill": {
     "duration": 1.810491,
     "end_time": "2025-05-05T17:53:10.867026",
     "exception": false,
     "start_time": "2025-05-05T17:53:09.056535",
     "status": "completed"
    },
    "tags": []
   },
   "outputs": [],
   "source": [
    "!git clone https://github.com/kohya-ss/sd-scripts.git"
   ]
  },
  {
   "cell_type": "code",
   "execution_count": null,
   "id": "bd95c533",
   "metadata": {
    "execution": {
     "iopub.execute_input": "2025-05-05T17:53:10.875468Z",
     "iopub.status.busy": "2025-05-05T17:53:10.874789Z",
     "iopub.status.idle": "2025-05-05T17:53:10.878510Z",
     "shell.execute_reply": "2025-05-05T17:53:10.878010Z"
    },
    "papermill": {
     "duration": 0.008814,
     "end_time": "2025-05-05T17:53:10.879504",
     "exception": false,
     "start_time": "2025-05-05T17:53:10.870690",
     "status": "completed"
    },
    "tags": []
   },
   "outputs": [],
   "source": [
    "image_dir = \"image_data_dir\"\n",
    "photo_caption = \"a photo of owhn woman\""
   ]
  },
  {
   "cell_type": "code",
   "execution_count": null,
   "id": "8c3853fd",
   "metadata": {
    "execution": {
     "iopub.execute_input": "2025-05-05T17:53:10.887143Z",
     "iopub.status.busy": "2025-05-05T17:53:10.886569Z",
     "iopub.status.idle": "2025-05-05T17:53:10.988525Z",
     "shell.execute_reply": "2025-05-05T17:53:10.987849Z"
    },
    "papermill": {
     "duration": 0.107082,
     "end_time": "2025-05-05T17:53:10.989883",
     "exception": false,
     "start_time": "2025-05-05T17:53:10.882801",
     "status": "completed"
    },
    "tags": []
   },
   "outputs": [],
   "source": [
    "input_image_dir = \"image_caption_dir\"\n",
    "os.makedirs(input_image_dir, exist_ok = True)\n",
    "for filename in os.listdir(image_dir):\n",
    "    source_image_path = os.path.join(image_dir, filename)\n",
    "    base_name, extension = os.path.splitext(filename)\n",
    "    caption_file = base_name + \".txt\"\n",
    "    dest_txt_path = os.path.join(input_image_dir, caption_file)\n",
    "    dest_image_path = os.path.join(input_image_dir, filename)\n",
    "\n",
    "    shutil.copy2(source_image_path, dest_image_path)\n",
    "    with open(dest_txt_path, 'w', encoding = 'utf-8') as f:\n",
    "        f.write(photo_caption)"
   ]
  },
  {
   "cell_type": "code",
   "execution_count": null,
   "id": "97a11cd6",
   "metadata": {
    "execution": {
     "iopub.execute_input": "2025-05-05T17:53:10.998662Z",
     "iopub.status.busy": "2025-05-05T17:53:10.998416Z",
     "iopub.status.idle": "2025-05-05T17:53:11.002040Z",
     "shell.execute_reply": "2025-05-05T17:53:11.001450Z"
    },
    "papermill": {
     "duration": 0.009805,
     "end_time": "2025-05-05T17:53:11.003145",
     "exception": false,
     "start_time": "2025-05-05T17:53:10.993340",
     "status": "completed"
    },
    "tags": []
   },
   "outputs": [],
   "source": [
    "model_dir = \"path_to_save_model\"\n",
    "os.makedirs(model_dir, exist_ok = True)"
   ]
  },
  {
   "cell_type": "code",
   "execution_count": null,
   "id": "75ae0b1c",
   "metadata": {
    "execution": {
     "iopub.execute_input": "2025-05-05T17:53:11.010241Z",
     "iopub.status.busy": "2025-05-05T17:53:11.010038Z",
     "iopub.status.idle": "2025-05-05T17:53:11.013923Z",
     "shell.execute_reply": "2025-05-05T17:53:11.013425Z"
    },
    "papermill": {
     "duration": 0.008671,
     "end_time": "2025-05-05T17:53:11.014959",
     "exception": false,
     "start_time": "2025-05-05T17:53:11.006288",
     "status": "completed"
    },
    "tags": []
   },
   "outputs": [],
   "source": [
    "log_dir = \"./log\"\n",
    "sample_prompt = \"a professional photo portrait of owhn woman holding flowers, model photoshoot, professional photo, white background, Amazing Details, Best Quality, Masterpiece, dramatic lighting highly detailed, analog photo, overglaze, 80mm Sigma f/1.4 or any ZEISS lens\"\n",
    "\n",
    "sample_prompt_dir = \"sample_prompt_path\"\n",
    "with open(sample_prompt_dir, 'w', encoding = 'utf-8') as f:\n",
    "    f.write(sample_prompt)"
   ]
  },
  {
   "cell_type": "code",
   "execution_count": null,
   "id": "e8b25d7a",
   "metadata": {
    "execution": {
     "iopub.execute_input": "2025-05-05T17:53:11.021866Z",
     "iopub.status.busy": "2025-05-05T17:53:11.021615Z",
     "iopub.status.idle": "2025-05-05T17:53:44.628348Z",
     "shell.execute_reply": "2025-05-05T17:53:44.627349Z"
    },
    "papermill": {
     "duration": 33.61151,
     "end_time": "2025-05-05T17:53:44.629506",
     "exception": false,
     "start_time": "2025-05-05T17:53:11.017996",
     "status": "completed"
    },
    "tags": []
   },
   "outputs": [],
   "source": [
    "from huggingface_hub import hf_hub_download\n",
    "\n",
    "model_path = hf_hub_download(\n",
    "    repo_id=\"stabilityai/stable-diffusion-xl-base-1.0\",\n",
    "    filename=\"sd_xl_base_1.0.safetensors\",  # hoặc file bạn muốn\n",
    "    local_dir=\"./sdxl_model\"\n",
    ")\n",
    "\n",
    "print(\"Downloaded to:\", model_path)"
   ]
  },
  {
   "cell_type": "code",
   "execution_count": null,
   "id": "6ede568c",
   "metadata": {
    "collapsed": true,
    "execution": {
     "iopub.execute_input": "2025-05-05T17:53:44.664292Z",
     "iopub.status.busy": "2025-05-05T17:53:44.663731Z",
     "iopub.status.idle": "2025-05-05T17:55:13.199140Z",
     "shell.execute_reply": "2025-05-05T17:55:13.198327Z"
    },
    "jupyter": {
     "outputs_hidden": true
    },
    "papermill": {
     "duration": 88.544189,
     "end_time": "2025-05-05T17:55:13.200686",
     "exception": false,
     "start_time": "2025-05-05T17:53:44.656497",
     "status": "completed"
    },
    "tags": []
   },
   "outputs": [],
   "source": [
    "!pip install voluptuous bitsandbytes"
   ]
  },
  {
   "cell_type": "code",
   "execution_count": 9,
   "id": "e6d16aec",
   "metadata": {
    "execution": {
     "iopub.execute_input": "2025-05-05T17:55:13.249669Z",
     "iopub.status.busy": "2025-05-05T17:55:13.249382Z",
     "iopub.status.idle": "2025-05-05T17:55:13.253431Z",
     "shell.execute_reply": "2025-05-05T17:55:13.252919Z"
    },
    "papermill": {
     "duration": 0.030665,
     "end_time": "2025-05-05T17:55:13.254477",
     "exception": false,
     "start_time": "2025-05-05T17:55:13.223812",
     "status": "completed"
    },
    "tags": []
   },
   "outputs": [],
   "source": [
    "os.makedirs(log_dir, exist_ok = True)"
   ]
  },
  {
   "cell_type": "code",
   "execution_count": null,
   "id": "bd5186f2",
   "metadata": {
    "execution": {
     "iopub.execute_input": "2025-05-05T17:55:13.300495Z",
     "iopub.status.busy": "2025-05-05T17:55:13.300248Z",
     "iopub.status.idle": "2025-05-05T17:55:13.304957Z",
     "shell.execute_reply": "2025-05-05T17:55:13.304156Z"
    },
    "papermill": {
     "duration": 0.028875,
     "end_time": "2025-05-05T17:55:13.306038",
     "exception": false,
     "start_time": "2025-05-05T17:55:13.277163",
     "status": "completed"
    },
    "tags": []
   },
   "outputs": [],
   "source": [
    "file_path = 'file_path'\n",
    "\n",
    "if os.path.exists(file_path):\n",
    "    os.remove(file_path)\n",
    "    print(\"File deleted successfully.\")\n",
    "else:\n",
    "    print(\"File does not exist.\")"
   ]
  },
  {
   "cell_type": "code",
   "execution_count": 11,
   "id": "5fdebd22",
   "metadata": {
    "execution": {
     "iopub.execute_input": "2025-05-05T17:55:13.352115Z",
     "iopub.status.busy": "2025-05-05T17:55:13.351611Z",
     "iopub.status.idle": "2025-05-05T17:55:13.356123Z",
     "shell.execute_reply": "2025-05-05T17:55:13.355400Z"
    },
    "papermill": {
     "duration": 0.028686,
     "end_time": "2025-05-05T17:55:13.357175",
     "exception": false,
     "start_time": "2025-05-05T17:55:13.328489",
     "status": "completed"
    },
    "tags": []
   },
   "outputs": [],
   "source": [
    "toml_text = '''\n",
    "[[datasets]]\n",
    "resolution = 1024\n",
    "batch_size = 1\n",
    "keep_tokens = 2\n",
    "\n",
    "    [[datasets.subsets]]\n",
    "    image_dir = \"/kaggle/working/itay_with_caption\"\n",
    "    class_tokens = 'owhn woman'\n",
    "    caption_extension = '.txt'\n",
    "    num_repeats = 5\n",
    "\n",
    "'''\n",
    "\n",
    "with open(\"dataset_config.toml\", \"w\") as f:\n",
    "    f.write(toml_text.strip())"
   ]
  },
  {
   "cell_type": "code",
   "execution_count": null,
   "id": "dc15b986",
   "metadata": {
    "execution": {
     "iopub.execute_input": "2025-05-05T17:55:13.403588Z",
     "iopub.status.busy": "2025-05-05T17:55:13.403114Z",
     "iopub.status.idle": "2025-05-05T19:47:07.379358Z",
     "shell.execute_reply": "2025-05-05T19:47:07.378439Z"
    },
    "papermill": {
     "duration": 6714.001201,
     "end_time": "2025-05-05T19:47:07.380887",
     "exception": false,
     "start_time": "2025-05-05T17:55:13.379686",
     "status": "completed"
    },
    "tags": []
   },
   "outputs": [],
   "source": [
    "!accelerate launch --num_cpu_threads_per_process 1 /kaggle/working/sd-scripts/sdxl_train_network.py \\\n",
    "    --pretrained_model_name_or_path=\"/kaggle/working/sdxl_model/sd_xl_base_1.0.safetensors\" \\\n",
    "    --dataset_config=\"file_path\" \\\n",
    "    --output_dir=\"path_to_save_model\" \\\n",
    "    --output_name=\"owhn woman\" \\\n",
    "    --logging_dir=\"path\" \\\n",
    "    --max_token_length=225 \\\n",
    "    --max_train_epochs=20 \\\n",
    "    --save_every_n_epochs=4 \\\n",
    "    --learning_rate=1e-4 \\\n",
    "    --mixed_precision=\"bf16\" \\\n",
    "    --cache_latents \\\n",
    "    --gradient_checkpointing \\\n",
    "    --optimizer_type=\"AdamW8bit\" \\\n",
    "    --lr_scheduler=\"constant\" \\\n",
    "    --sample_every_n_epochs=4 \\\n",
    "    --sample_prompt=\"sample_prompt_path\" \\\n",
    "    --save_model_as=safetensors \\\n",
    "    --sample_sampler=\"euler_a\" \\\n",
    "    --seed=0 \\\n",
    "    --log_with=\"wandb\" \\\n",
    "    --wandb_api_key=\"wandb_api_key\" \\\n",
    "    --network_dim=64 \\\n",
    "    --unet_lr=0.0001 \\\n",
    "    --text_encoder_lr=5e-6 \\\n",
    "    --network_module=\"networks.lora\" \\\n",
    "    --network_alpha=64"
   ]
  }
 ],
 "metadata": {
  "kaggle": {
   "accelerator": "gpu",
   "dataSources": [
    {
     "datasetId": 7319724,
     "sourceId": 11663408,
     "sourceType": "datasetVersion"
    },
    {
     "datasetId": 7334970,
     "sourceId": 11686536,
     "sourceType": "datasetVersion"
    }
   ],
   "dockerImageVersionId": 31012,
   "isGpuEnabled": true,
   "isInternetEnabled": true,
   "language": "python",
   "sourceType": "notebook"
  },
  "kernelspec": {
   "display_name": "Python 3",
   "language": "python",
   "name": "python3"
  },
  "language_info": {
   "codemirror_mode": {
    "name": "ipython",
    "version": 3
   },
   "file_extension": ".py",
   "mimetype": "text/x-python",
   "name": "python",
   "nbconvert_exporter": "python",
   "pygments_lexer": "ipython3",
   "version": "3.11.11"
  },
  "papermill": {
   "default_parameters": {},
   "duration": 6850.223618,
   "end_time": "2025-05-05T19:47:10.156240",
   "environment_variables": {},
   "exception": null,
   "input_path": "__notebook__.ipynb",
   "output_path": "__notebook__.ipynb",
   "parameters": {},
   "start_time": "2025-05-05T17:52:59.932622",
   "version": "2.6.0"
  },
  "widgets": {
   "application/vnd.jupyter.widget-state+json": {
    "state": {
     "024e647588da4c64955a0d7c55f57753": {
      "model_module": "@jupyter-widgets/base",
      "model_module_version": "2.0.0",
      "model_name": "LayoutModel",
      "state": {
       "_model_module": "@jupyter-widgets/base",
       "_model_module_version": "2.0.0",
       "_model_name": "LayoutModel",
       "_view_count": null,
       "_view_module": "@jupyter-widgets/base",
       "_view_module_version": "2.0.0",
       "_view_name": "LayoutView",
       "align_content": null,
       "align_items": null,
       "align_self": null,
       "border_bottom": null,
       "border_left": null,
       "border_right": null,
       "border_top": null,
       "bottom": null,
       "display": null,
       "flex": null,
       "flex_flow": null,
       "grid_area": null,
       "grid_auto_columns": null,
       "grid_auto_flow": null,
       "grid_auto_rows": null,
       "grid_column": null,
       "grid_gap": null,
       "grid_row": null,
       "grid_template_areas": null,
       "grid_template_columns": null,
       "grid_template_rows": null,
       "height": null,
       "justify_content": null,
       "justify_items": null,
       "left": null,
       "margin": null,
       "max_height": null,
       "max_width": null,
       "min_height": null,
       "min_width": null,
       "object_fit": null,
       "object_position": null,
       "order": null,
       "overflow": null,
       "padding": null,
       "right": null,
       "top": null,
       "visibility": null,
       "width": null
      }
     },
     "04fb3d11dd8b4e4994c0ac867e52c024": {
      "model_module": "@jupyter-widgets/base",
      "model_module_version": "2.0.0",
      "model_name": "LayoutModel",
      "state": {
       "_model_module": "@jupyter-widgets/base",
       "_model_module_version": "2.0.0",
       "_model_name": "LayoutModel",
       "_view_count": null,
       "_view_module": "@jupyter-widgets/base",
       "_view_module_version": "2.0.0",
       "_view_name": "LayoutView",
       "align_content": null,
       "align_items": null,
       "align_self": null,
       "border_bottom": null,
       "border_left": null,
       "border_right": null,
       "border_top": null,
       "bottom": null,
       "display": null,
       "flex": null,
       "flex_flow": null,
       "grid_area": null,
       "grid_auto_columns": null,
       "grid_auto_flow": null,
       "grid_auto_rows": null,
       "grid_column": null,
       "grid_gap": null,
       "grid_row": null,
       "grid_template_areas": null,
       "grid_template_columns": null,
       "grid_template_rows": null,
       "height": null,
       "justify_content": null,
       "justify_items": null,
       "left": null,
       "margin": null,
       "max_height": null,
       "max_width": null,
       "min_height": null,
       "min_width": null,
       "object_fit": null,
       "object_position": null,
       "order": null,
       "overflow": null,
       "padding": null,
       "right": null,
       "top": null,
       "visibility": null,
       "width": null
      }
     },
     "2518ce2e122645a0930b09d657ff8c20": {
      "model_module": "@jupyter-widgets/controls",
      "model_module_version": "2.0.0",
      "model_name": "HBoxModel",
      "state": {
       "_dom_classes": [],
       "_model_module": "@jupyter-widgets/controls",
       "_model_module_version": "2.0.0",
       "_model_name": "HBoxModel",
       "_view_count": null,
       "_view_module": "@jupyter-widgets/controls",
       "_view_module_version": "2.0.0",
       "_view_name": "HBoxView",
       "box_style": "",
       "children": [
        "IPY_MODEL_82c34426183f40e99be7c6d2d5a0277d",
        "IPY_MODEL_7a49716121244bd2b98254c167a1f24f",
        "IPY_MODEL_b7443b750de048aa8d72d3e58ca91a0e"
       ],
       "layout": "IPY_MODEL_04fb3d11dd8b4e4994c0ac867e52c024",
       "tabbable": null,
       "tooltip": null
      }
     },
     "5ad6c4eda5874d21a14c072d6c35a8dc": {
      "model_module": "@jupyter-widgets/controls",
      "model_module_version": "2.0.0",
      "model_name": "HTMLStyleModel",
      "state": {
       "_model_module": "@jupyter-widgets/controls",
       "_model_module_version": "2.0.0",
       "_model_name": "HTMLStyleModel",
       "_view_count": null,
       "_view_module": "@jupyter-widgets/base",
       "_view_module_version": "2.0.0",
       "_view_name": "StyleView",
       "background": null,
       "description_width": "",
       "font_size": null,
       "text_color": null
      }
     },
     "7a49716121244bd2b98254c167a1f24f": {
      "model_module": "@jupyter-widgets/controls",
      "model_module_version": "2.0.0",
      "model_name": "FloatProgressModel",
      "state": {
       "_dom_classes": [],
       "_model_module": "@jupyter-widgets/controls",
       "_model_module_version": "2.0.0",
       "_model_name": "FloatProgressModel",
       "_view_count": null,
       "_view_module": "@jupyter-widgets/controls",
       "_view_module_version": "2.0.0",
       "_view_name": "ProgressView",
       "bar_style": "success",
       "description": "",
       "description_allow_html": false,
       "layout": "IPY_MODEL_024e647588da4c64955a0d7c55f57753",
       "max": 6938078334,
       "min": 0,
       "orientation": "horizontal",
       "style": "IPY_MODEL_dcb4daa376bc40ee929764b1bbb978de",
       "tabbable": null,
       "tooltip": null,
       "value": 6938078334
      }
     },
     "7b8880bf82334574be43deee56713826": {
      "model_module": "@jupyter-widgets/controls",
      "model_module_version": "2.0.0",
      "model_name": "HTMLStyleModel",
      "state": {
       "_model_module": "@jupyter-widgets/controls",
       "_model_module_version": "2.0.0",
       "_model_name": "HTMLStyleModel",
       "_view_count": null,
       "_view_module": "@jupyter-widgets/base",
       "_view_module_version": "2.0.0",
       "_view_name": "StyleView",
       "background": null,
       "description_width": "",
       "font_size": null,
       "text_color": null
      }
     },
     "82c34426183f40e99be7c6d2d5a0277d": {
      "model_module": "@jupyter-widgets/controls",
      "model_module_version": "2.0.0",
      "model_name": "HTMLModel",
      "state": {
       "_dom_classes": [],
       "_model_module": "@jupyter-widgets/controls",
       "_model_module_version": "2.0.0",
       "_model_name": "HTMLModel",
       "_view_count": null,
       "_view_module": "@jupyter-widgets/controls",
       "_view_module_version": "2.0.0",
       "_view_name": "HTMLView",
       "description": "",
       "description_allow_html": false,
       "layout": "IPY_MODEL_938032e964d3475caa4b078e4bd23eca",
       "placeholder": "​",
       "style": "IPY_MODEL_7b8880bf82334574be43deee56713826",
       "tabbable": null,
       "tooltip": null,
       "value": "sd_xl_base_1.0.safetensors: 100%"
      }
     },
     "938032e964d3475caa4b078e4bd23eca": {
      "model_module": "@jupyter-widgets/base",
      "model_module_version": "2.0.0",
      "model_name": "LayoutModel",
      "state": {
       "_model_module": "@jupyter-widgets/base",
       "_model_module_version": "2.0.0",
       "_model_name": "LayoutModel",
       "_view_count": null,
       "_view_module": "@jupyter-widgets/base",
       "_view_module_version": "2.0.0",
       "_view_name": "LayoutView",
       "align_content": null,
       "align_items": null,
       "align_self": null,
       "border_bottom": null,
       "border_left": null,
       "border_right": null,
       "border_top": null,
       "bottom": null,
       "display": null,
       "flex": null,
       "flex_flow": null,
       "grid_area": null,
       "grid_auto_columns": null,
       "grid_auto_flow": null,
       "grid_auto_rows": null,
       "grid_column": null,
       "grid_gap": null,
       "grid_row": null,
       "grid_template_areas": null,
       "grid_template_columns": null,
       "grid_template_rows": null,
       "height": null,
       "justify_content": null,
       "justify_items": null,
       "left": null,
       "margin": null,
       "max_height": null,
       "max_width": null,
       "min_height": null,
       "min_width": null,
       "object_fit": null,
       "object_position": null,
       "order": null,
       "overflow": null,
       "padding": null,
       "right": null,
       "top": null,
       "visibility": null,
       "width": null
      }
     },
     "9c0e447ec2784829ad2a898fcdfca056": {
      "model_module": "@jupyter-widgets/base",
      "model_module_version": "2.0.0",
      "model_name": "LayoutModel",
      "state": {
       "_model_module": "@jupyter-widgets/base",
       "_model_module_version": "2.0.0",
       "_model_name": "LayoutModel",
       "_view_count": null,
       "_view_module": "@jupyter-widgets/base",
       "_view_module_version": "2.0.0",
       "_view_name": "LayoutView",
       "align_content": null,
       "align_items": null,
       "align_self": null,
       "border_bottom": null,
       "border_left": null,
       "border_right": null,
       "border_top": null,
       "bottom": null,
       "display": null,
       "flex": null,
       "flex_flow": null,
       "grid_area": null,
       "grid_auto_columns": null,
       "grid_auto_flow": null,
       "grid_auto_rows": null,
       "grid_column": null,
       "grid_gap": null,
       "grid_row": null,
       "grid_template_areas": null,
       "grid_template_columns": null,
       "grid_template_rows": null,
       "height": null,
       "justify_content": null,
       "justify_items": null,
       "left": null,
       "margin": null,
       "max_height": null,
       "max_width": null,
       "min_height": null,
       "min_width": null,
       "object_fit": null,
       "object_position": null,
       "order": null,
       "overflow": null,
       "padding": null,
       "right": null,
       "top": null,
       "visibility": null,
       "width": null
      }
     },
     "b7443b750de048aa8d72d3e58ca91a0e": {
      "model_module": "@jupyter-widgets/controls",
      "model_module_version": "2.0.0",
      "model_name": "HTMLModel",
      "state": {
       "_dom_classes": [],
       "_model_module": "@jupyter-widgets/controls",
       "_model_module_version": "2.0.0",
       "_model_name": "HTMLModel",
       "_view_count": null,
       "_view_module": "@jupyter-widgets/controls",
       "_view_module_version": "2.0.0",
       "_view_name": "HTMLView",
       "description": "",
       "description_allow_html": false,
       "layout": "IPY_MODEL_9c0e447ec2784829ad2a898fcdfca056",
       "placeholder": "​",
       "style": "IPY_MODEL_5ad6c4eda5874d21a14c072d6c35a8dc",
       "tabbable": null,
       "tooltip": null,
       "value": " 6.94G/6.94G [00:33&lt;00:00, 69.7MB/s]"
      }
     },
     "dcb4daa376bc40ee929764b1bbb978de": {
      "model_module": "@jupyter-widgets/controls",
      "model_module_version": "2.0.0",
      "model_name": "ProgressStyleModel",
      "state": {
       "_model_module": "@jupyter-widgets/controls",
       "_model_module_version": "2.0.0",
       "_model_name": "ProgressStyleModel",
       "_view_count": null,
       "_view_module": "@jupyter-widgets/base",
       "_view_module_version": "2.0.0",
       "_view_name": "StyleView",
       "bar_color": null,
       "description_width": ""
      }
     }
    },
    "version_major": 2,
    "version_minor": 0
   }
  }
 },
 "nbformat": 4,
 "nbformat_minor": 5
}
