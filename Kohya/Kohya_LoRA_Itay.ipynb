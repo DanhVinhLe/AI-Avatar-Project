{
 "cells": [
  {
   "cell_type": "code",
   "execution_count": 1,
   "id": "b4e199ee",
   "metadata": {
    "execution": {
     "iopub.execute_input": "2025-05-05T09:34:39.390641Z",
     "iopub.status.busy": "2025-05-05T09:34:39.390429Z",
     "iopub.status.idle": "2025-05-05T09:34:43.824355Z",
     "shell.execute_reply": "2025-05-05T09:34:43.823762Z"
    },
    "papermill": {
     "duration": 4.438786,
     "end_time": "2025-05-05T09:34:43.825698",
     "exception": false,
     "start_time": "2025-05-05T09:34:39.386912",
     "status": "completed"
    },
    "tags": []
   },
   "outputs": [],
   "source": [
    "import torch\n",
    "import numpy as np \n",
    "import os \n",
    "import diffusers\n",
    "import transformers\n",
    "import shutil\n",
    "from IPython.display import display"
   ]
  },
  {
   "cell_type": "code",
   "execution_count": null,
   "id": "219d50d4",
   "metadata": {
    "execution": {
     "iopub.execute_input": "2025-05-05T09:34:43.831677Z",
     "iopub.status.busy": "2025-05-05T09:34:43.831371Z",
     "iopub.status.idle": "2025-05-05T09:34:46.279745Z",
     "shell.execute_reply": "2025-05-05T09:34:46.279001Z"
    },
    "papermill": {
     "duration": 2.452694,
     "end_time": "2025-05-05T09:34:46.281235",
     "exception": false,
     "start_time": "2025-05-05T09:34:43.828541",
     "status": "completed"
    },
    "tags": []
   },
   "outputs": [],
   "source": [
    "!git clone https://github.com/kohya-ss/sd-scripts.git"
   ]
  },
  {
   "cell_type": "code",
   "execution_count": null,
   "id": "8e219eac",
   "metadata": {
    "execution": {
     "iopub.execute_input": "2025-05-05T09:34:46.289175Z",
     "iopub.status.busy": "2025-05-05T09:34:46.288903Z",
     "iopub.status.idle": "2025-05-05T09:34:46.292720Z",
     "shell.execute_reply": "2025-05-05T09:34:46.291998Z"
    },
    "papermill": {
     "duration": 0.008852,
     "end_time": "2025-05-05T09:34:46.293780",
     "exception": false,
     "start_time": "2025-05-05T09:34:46.284928",
     "status": "completed"
    },
    "tags": []
   },
   "outputs": [],
   "source": [
    "image_dir = \"image_data_dir\"\n",
    "photo_caption = \"a photo of owhn man\""
   ]
  },
  {
   "cell_type": "code",
   "execution_count": null,
   "id": "3ca7cee5",
   "metadata": {
    "execution": {
     "iopub.execute_input": "2025-05-05T09:34:46.300786Z",
     "iopub.status.busy": "2025-05-05T09:34:46.300582Z",
     "iopub.status.idle": "2025-05-05T09:34:46.531576Z",
     "shell.execute_reply": "2025-05-05T09:34:46.531071Z"
    },
    "papermill": {
     "duration": 0.235689,
     "end_time": "2025-05-05T09:34:46.532606",
     "exception": false,
     "start_time": "2025-05-05T09:34:46.296917",
     "status": "completed"
    },
    "tags": []
   },
   "outputs": [],
   "source": [
    "input_image_dir = \"image_caption_dir\"\n",
    "os.makedirs(input_image_dir, exist_ok = True)\n",
    "for filename in os.listdir(image_dir):\n",
    "    source_image_path = os.path.join(image_dir, filename)\n",
    "    base_name, extension = os.path.splitext(filename)\n",
    "    caption_file = base_name + \".txt\"\n",
    "    dest_txt_path = os.path.join(input_image_dir, caption_file)\n",
    "    dest_image_path = os.path.join(input_image_dir, filename)\n",
    "\n",
    "    shutil.copy2(source_image_path, dest_image_path)\n",
    "    with open(dest_txt_path, 'w', encoding = 'utf-8') as f:\n",
    "        f.write(photo_caption)"
   ]
  },
  {
   "cell_type": "code",
   "execution_count": null,
   "id": "5be209ee",
   "metadata": {
    "execution": {
     "iopub.execute_input": "2025-05-05T09:34:46.542201Z",
     "iopub.status.busy": "2025-05-05T09:34:46.541956Z",
     "iopub.status.idle": "2025-05-05T09:34:46.545353Z",
     "shell.execute_reply": "2025-05-05T09:34:46.544831Z"
    },
    "papermill": {
     "duration": 0.009806,
     "end_time": "2025-05-05T09:34:46.546342",
     "exception": false,
     "start_time": "2025-05-05T09:34:46.536536",
     "status": "completed"
    },
    "tags": []
   },
   "outputs": [],
   "source": [
    "model_dir = \"path_to_save_model\"\n",
    "os.makedirs(model_dir, exist_ok = True)"
   ]
  },
  {
   "cell_type": "code",
   "execution_count": null,
   "id": "9e711711",
   "metadata": {
    "execution": {
     "iopub.execute_input": "2025-05-05T09:34:46.553552Z",
     "iopub.status.busy": "2025-05-05T09:34:46.553035Z",
     "iopub.status.idle": "2025-05-05T09:34:46.556746Z",
     "shell.execute_reply": "2025-05-05T09:34:46.556237Z"
    },
    "papermill": {
     "duration": 0.008291,
     "end_time": "2025-05-05T09:34:46.557762",
     "exception": false,
     "start_time": "2025-05-05T09:34:46.549471",
     "status": "completed"
    },
    "tags": []
   },
   "outputs": [],
   "source": [
    "log_dir = \"./log\"\n",
    "sample_prompt = \"(wide shot) of analog style modelshoot style 8k close up linkedin profile picture of owhn man, professional jack suite, professional headshots, photo-realistic, 4k, high-resolution image, upper body, modern outfit, business, blurred background, glass building background, crisp details, neutral expression, high-definition, sharp focus\"\n",
    "\n",
    "sample_prompt_dir = \"sample_prompt_path\"\n",
    "with open(sample_prompt_dir, 'w', encoding = 'utf-8') as f:\n",
    "    f.write(sample_prompt)"
   ]
  },
  {
   "cell_type": "code",
   "execution_count": null,
   "id": "51ba3f85",
   "metadata": {
    "execution": {
     "iopub.execute_input": "2025-05-05T09:34:46.564543Z",
     "iopub.status.busy": "2025-05-05T09:34:46.564371Z",
     "iopub.status.idle": "2025-05-05T09:35:03.979378Z",
     "shell.execute_reply": "2025-05-05T09:35:03.978661Z"
    },
    "papermill": {
     "duration": 17.419776,
     "end_time": "2025-05-05T09:35:03.980577",
     "exception": false,
     "start_time": "2025-05-05T09:34:46.560801",
     "status": "completed"
    },
    "tags": []
   },
   "outputs": [],
   "source": [
    "from huggingface_hub import hf_hub_download\n",
    "\n",
    "model_path = hf_hub_download(\n",
    "    repo_id=\"stabilityai/stable-diffusion-xl-base-1.0\",\n",
    "    filename=\"sd_xl_base_1.0.safetensors\",  # hoặc file bạn muốn\n",
    "    local_dir=\"./sdxl_model\"\n",
    ")\n",
    "\n",
    "print(\"Downloaded to:\", model_path)"
   ]
  },
  {
   "cell_type": "code",
   "execution_count": null,
   "id": "6648fdeb",
   "metadata": {
    "collapsed": true,
    "execution": {
     "iopub.execute_input": "2025-05-05T09:35:03.988645Z",
     "iopub.status.busy": "2025-05-05T09:35:03.988383Z",
     "iopub.status.idle": "2025-05-05T09:36:31.842174Z",
     "shell.execute_reply": "2025-05-05T09:36:31.840987Z"
    },
    "jupyter": {
     "outputs_hidden": true
    },
    "papermill": {
     "duration": 87.859445,
     "end_time": "2025-05-05T09:36:31.843812",
     "exception": false,
     "start_time": "2025-05-05T09:35:03.984367",
     "status": "completed"
    },
    "tags": []
   },
   "outputs": [],
   "source": [
    "!pip install voluptuous bitsandbytes"
   ]
  },
  {
   "cell_type": "code",
   "execution_count": 9,
   "id": "99a39892",
   "metadata": {
    "execution": {
     "iopub.execute_input": "2025-05-05T09:36:31.887286Z",
     "iopub.status.busy": "2025-05-05T09:36:31.886995Z",
     "iopub.status.idle": "2025-05-05T09:36:31.891935Z",
     "shell.execute_reply": "2025-05-05T09:36:31.891115Z"
    },
    "papermill": {
     "duration": 0.027932,
     "end_time": "2025-05-05T09:36:31.893105",
     "exception": false,
     "start_time": "2025-05-05T09:36:31.865173",
     "status": "completed"
    },
    "tags": []
   },
   "outputs": [],
   "source": [
    "os.makedirs(log_dir, exist_ok = True)"
   ]
  },
  {
   "cell_type": "code",
   "execution_count": null,
   "id": "69518a6b",
   "metadata": {
    "execution": {
     "iopub.execute_input": "2025-05-05T09:36:31.936646Z",
     "iopub.status.busy": "2025-05-05T09:36:31.935808Z",
     "iopub.status.idle": "2025-05-05T09:36:31.942332Z",
     "shell.execute_reply": "2025-05-05T09:36:31.941505Z"
    },
    "papermill": {
     "duration": 0.02973,
     "end_time": "2025-05-05T09:36:31.943578",
     "exception": false,
     "start_time": "2025-05-05T09:36:31.913848",
     "status": "completed"
    },
    "tags": []
   },
   "outputs": [],
   "source": [
    "file_path = 'file_path'\n",
    "\n",
    "if os.path.exists(file_path):\n",
    "    os.remove(file_path)\n",
    "    print(\"File deleted successfully.\")\n",
    "else:\n",
    "    print(\"File does not exist.\")"
   ]
  },
  {
   "cell_type": "code",
   "execution_count": 11,
   "id": "b5a3080f",
   "metadata": {
    "execution": {
     "iopub.execute_input": "2025-05-05T09:36:31.986146Z",
     "iopub.status.busy": "2025-05-05T09:36:31.985603Z",
     "iopub.status.idle": "2025-05-05T09:36:31.989922Z",
     "shell.execute_reply": "2025-05-05T09:36:31.989383Z"
    },
    "papermill": {
     "duration": 0.026919,
     "end_time": "2025-05-05T09:36:31.991097",
     "exception": false,
     "start_time": "2025-05-05T09:36:31.964178",
     "status": "completed"
    },
    "tags": []
   },
   "outputs": [],
   "source": [
    "toml_text = '''\n",
    "[[datasets]]\n",
    "resolution = 1024\n",
    "batch_size = 1\n",
    "keep_tokens = 2\n",
    "\n",
    "    [[datasets.subsets]]\n",
    "    image_dir = \"/kaggle/working/itay_with_caption\"\n",
    "    class_tokens = 'owhn man'\n",
    "    caption_extension = '.txt'\n",
    "    num_repeats = 5\n",
    "\n",
    "'''\n",
    "\n",
    "with open(\"dataset_config.toml\", \"w\") as f:\n",
    "    f.write(toml_text.strip())"
   ]
  },
  {
   "cell_type": "code",
   "execution_count": null,
   "id": "89b114ad",
   "metadata": {
    "execution": {
     "iopub.execute_input": "2025-05-05T09:36:32.032996Z",
     "iopub.status.busy": "2025-05-05T09:36:32.032484Z",
     "iopub.status.idle": "2025-05-05T12:39:23.035331Z",
     "shell.execute_reply": "2025-05-05T12:39:23.034254Z"
    },
    "papermill": {
     "duration": 10971.025912,
     "end_time": "2025-05-05T12:39:23.037582",
     "exception": false,
     "start_time": "2025-05-05T09:36:32.011670",
     "status": "completed"
    },
    "tags": []
   },
   "outputs": [],
   "source": [
    "!accelerate launch --num_cpu_threads_per_process 1 /kaggle/working/sd-scripts/sdxl_train_network.py \\\n",
    "    --pretrained_model_name_or_path=\"/kaggle/working/sdxl_model/sd_xl_base_1.0.safetensors\" \\\n",
    "    --dataset_config=\"image_caption_dir\" \\\n",
    "    --output_dir=\"path_to_save_model\" \\\n",
    "    --output_name=\"owhn man\" \\\n",
    "    --logging_dir=\"log_dir\" \\\n",
    "    --max_token_length=225 \\\n",
    "    --max_train_epochs=20 \\\n",
    "    --save_every_n_epochs=4 \\\n",
    "    --learning_rate=1e-4 \\\n",
    "    --mixed_precision=\"bf16\" \\\n",
    "    --cache_latents \\\n",
    "    --gradient_checkpointing \\\n",
    "    --optimizer_type=\"AdamW8bit\" \\\n",
    "    --lr_scheduler=\"constant\" \\\n",
    "    --sample_every_n_epochs=4 \\\n",
    "    --sample_prompt=\"sample_prompt_path\" \\\n",
    "    --save_model_as=safetensors \\\n",
    "    --sample_sampler=\"euler_a\" \\\n",
    "    --seed=0 \\\n",
    "    --log_with=\"wandb\" \\\n",
    "    --wandb_api_key=\"wandb_api_key\" \\\n",
    "    --network_dim=64 \\\n",
    "    --unet_lr=0.0001 \\\n",
    "    --text_encoder_lr=5e-6 \\\n",
    "    --network_module=\"networks.lora\" \\\n",
    "    --network_alpha=64"
   ]
  }
 ],
 "metadata": {
  "kaggle": {
   "accelerator": "gpu",
   "dataSources": [
    {
     "datasetId": 7319724,
     "sourceId": 11663408,
     "sourceType": "datasetVersion"
    }
   ],
   "dockerImageVersionId": 31012,
   "isGpuEnabled": true,
   "isInternetEnabled": true,
   "language": "python",
   "sourceType": "notebook"
  },
  "kernelspec": {
   "display_name": "Python 3",
   "language": "python",
   "name": "python3"
  },
  "language_info": {
   "codemirror_mode": {
    "name": "ipython",
    "version": 3
   },
   "file_extension": ".py",
   "mimetype": "text/x-python",
   "name": "python",
   "nbconvert_exporter": "python",
   "pygments_lexer": "ipython3",
   "version": "3.11.11"
  },
  "papermill": {
   "default_parameters": {},
   "duration": 11089.499419,
   "end_time": "2025-05-05T12:39:24.967634",
   "environment_variables": {},
   "exception": null,
   "input_path": "__notebook__.ipynb",
   "output_path": "__notebook__.ipynb",
   "parameters": {},
   "start_time": "2025-05-05T09:34:35.468215",
   "version": "2.6.0"
  },
  "widgets": {
   "application/vnd.jupyter.widget-state+json": {
    "state": {
     "0fcade4ca42b436cbe95ba29e8706c51": {
      "model_module": "@jupyter-widgets/controls",
      "model_module_version": "2.0.0",
      "model_name": "HTMLModel",
      "state": {
       "_dom_classes": [],
       "_model_module": "@jupyter-widgets/controls",
       "_model_module_version": "2.0.0",
       "_model_name": "HTMLModel",
       "_view_count": null,
       "_view_module": "@jupyter-widgets/controls",
       "_view_module_version": "2.0.0",
       "_view_name": "HTMLView",
       "description": "",
       "description_allow_html": false,
       "layout": "IPY_MODEL_e4502eab1a2741a9ae06c938a39e1ba6",
       "placeholder": "​",
       "style": "IPY_MODEL_b1c3c2ed4ed54f21a70c9a6472fbb6c0",
       "tabbable": null,
       "tooltip": null,
       "value": "sd_xl_base_1.0.safetensors: 100%"
      }
     },
     "2ba0fbf4df704e469081e483beae873e": {
      "model_module": "@jupyter-widgets/base",
      "model_module_version": "2.0.0",
      "model_name": "LayoutModel",
      "state": {
       "_model_module": "@jupyter-widgets/base",
       "_model_module_version": "2.0.0",
       "_model_name": "LayoutModel",
       "_view_count": null,
       "_view_module": "@jupyter-widgets/base",
       "_view_module_version": "2.0.0",
       "_view_name": "LayoutView",
       "align_content": null,
       "align_items": null,
       "align_self": null,
       "border_bottom": null,
       "border_left": null,
       "border_right": null,
       "border_top": null,
       "bottom": null,
       "display": null,
       "flex": null,
       "flex_flow": null,
       "grid_area": null,
       "grid_auto_columns": null,
       "grid_auto_flow": null,
       "grid_auto_rows": null,
       "grid_column": null,
       "grid_gap": null,
       "grid_row": null,
       "grid_template_areas": null,
       "grid_template_columns": null,
       "grid_template_rows": null,
       "height": null,
       "justify_content": null,
       "justify_items": null,
       "left": null,
       "margin": null,
       "max_height": null,
       "max_width": null,
       "min_height": null,
       "min_width": null,
       "object_fit": null,
       "object_position": null,
       "order": null,
       "overflow": null,
       "padding": null,
       "right": null,
       "top": null,
       "visibility": null,
       "width": null
      }
     },
     "62e1c7e004634f348a8033c386417544": {
      "model_module": "@jupyter-widgets/controls",
      "model_module_version": "2.0.0",
      "model_name": "HTMLStyleModel",
      "state": {
       "_model_module": "@jupyter-widgets/controls",
       "_model_module_version": "2.0.0",
       "_model_name": "HTMLStyleModel",
       "_view_count": null,
       "_view_module": "@jupyter-widgets/base",
       "_view_module_version": "2.0.0",
       "_view_name": "StyleView",
       "background": null,
       "description_width": "",
       "font_size": null,
       "text_color": null
      }
     },
     "7692a3e2684c433d8ee440c6519c37ed": {
      "model_module": "@jupyter-widgets/controls",
      "model_module_version": "2.0.0",
      "model_name": "HTMLModel",
      "state": {
       "_dom_classes": [],
       "_model_module": "@jupyter-widgets/controls",
       "_model_module_version": "2.0.0",
       "_model_name": "HTMLModel",
       "_view_count": null,
       "_view_module": "@jupyter-widgets/controls",
       "_view_module_version": "2.0.0",
       "_view_name": "HTMLView",
       "description": "",
       "description_allow_html": false,
       "layout": "IPY_MODEL_8591892498474250b394a52305afa707",
       "placeholder": "​",
       "style": "IPY_MODEL_62e1c7e004634f348a8033c386417544",
       "tabbable": null,
       "tooltip": null,
       "value": " 6.94G/6.94G [00:16&lt;00:00, 399MB/s]"
      }
     },
     "8591892498474250b394a52305afa707": {
      "model_module": "@jupyter-widgets/base",
      "model_module_version": "2.0.0",
      "model_name": "LayoutModel",
      "state": {
       "_model_module": "@jupyter-widgets/base",
       "_model_module_version": "2.0.0",
       "_model_name": "LayoutModel",
       "_view_count": null,
       "_view_module": "@jupyter-widgets/base",
       "_view_module_version": "2.0.0",
       "_view_name": "LayoutView",
       "align_content": null,
       "align_items": null,
       "align_self": null,
       "border_bottom": null,
       "border_left": null,
       "border_right": null,
       "border_top": null,
       "bottom": null,
       "display": null,
       "flex": null,
       "flex_flow": null,
       "grid_area": null,
       "grid_auto_columns": null,
       "grid_auto_flow": null,
       "grid_auto_rows": null,
       "grid_column": null,
       "grid_gap": null,
       "grid_row": null,
       "grid_template_areas": null,
       "grid_template_columns": null,
       "grid_template_rows": null,
       "height": null,
       "justify_content": null,
       "justify_items": null,
       "left": null,
       "margin": null,
       "max_height": null,
       "max_width": null,
       "min_height": null,
       "min_width": null,
       "object_fit": null,
       "object_position": null,
       "order": null,
       "overflow": null,
       "padding": null,
       "right": null,
       "top": null,
       "visibility": null,
       "width": null
      }
     },
     "b1c3c2ed4ed54f21a70c9a6472fbb6c0": {
      "model_module": "@jupyter-widgets/controls",
      "model_module_version": "2.0.0",
      "model_name": "HTMLStyleModel",
      "state": {
       "_model_module": "@jupyter-widgets/controls",
       "_model_module_version": "2.0.0",
       "_model_name": "HTMLStyleModel",
       "_view_count": null,
       "_view_module": "@jupyter-widgets/base",
       "_view_module_version": "2.0.0",
       "_view_name": "StyleView",
       "background": null,
       "description_width": "",
       "font_size": null,
       "text_color": null
      }
     },
     "c0e2c85f5cc840f6bf2eadfaddcb65f9": {
      "model_module": "@jupyter-widgets/controls",
      "model_module_version": "2.0.0",
      "model_name": "HBoxModel",
      "state": {
       "_dom_classes": [],
       "_model_module": "@jupyter-widgets/controls",
       "_model_module_version": "2.0.0",
       "_model_name": "HBoxModel",
       "_view_count": null,
       "_view_module": "@jupyter-widgets/controls",
       "_view_module_version": "2.0.0",
       "_view_name": "HBoxView",
       "box_style": "",
       "children": [
        "IPY_MODEL_0fcade4ca42b436cbe95ba29e8706c51",
        "IPY_MODEL_cbcbba30016d432593a81dee721b28e3",
        "IPY_MODEL_7692a3e2684c433d8ee440c6519c37ed"
       ],
       "layout": "IPY_MODEL_e75b874e9dce486992ac008ff623e88c",
       "tabbable": null,
       "tooltip": null
      }
     },
     "cbcbba30016d432593a81dee721b28e3": {
      "model_module": "@jupyter-widgets/controls",
      "model_module_version": "2.0.0",
      "model_name": "FloatProgressModel",
      "state": {
       "_dom_classes": [],
       "_model_module": "@jupyter-widgets/controls",
       "_model_module_version": "2.0.0",
       "_model_name": "FloatProgressModel",
       "_view_count": null,
       "_view_module": "@jupyter-widgets/controls",
       "_view_module_version": "2.0.0",
       "_view_name": "ProgressView",
       "bar_style": "success",
       "description": "",
       "description_allow_html": false,
       "layout": "IPY_MODEL_2ba0fbf4df704e469081e483beae873e",
       "max": 6938078334,
       "min": 0,
       "orientation": "horizontal",
       "style": "IPY_MODEL_f91d05bf391a4f0eb7a59176d8e06fdc",
       "tabbable": null,
       "tooltip": null,
       "value": 6938078334
      }
     },
     "e4502eab1a2741a9ae06c938a39e1ba6": {
      "model_module": "@jupyter-widgets/base",
      "model_module_version": "2.0.0",
      "model_name": "LayoutModel",
      "state": {
       "_model_module": "@jupyter-widgets/base",
       "_model_module_version": "2.0.0",
       "_model_name": "LayoutModel",
       "_view_count": null,
       "_view_module": "@jupyter-widgets/base",
       "_view_module_version": "2.0.0",
       "_view_name": "LayoutView",
       "align_content": null,
       "align_items": null,
       "align_self": null,
       "border_bottom": null,
       "border_left": null,
       "border_right": null,
       "border_top": null,
       "bottom": null,
       "display": null,
       "flex": null,
       "flex_flow": null,
       "grid_area": null,
       "grid_auto_columns": null,
       "grid_auto_flow": null,
       "grid_auto_rows": null,
       "grid_column": null,
       "grid_gap": null,
       "grid_row": null,
       "grid_template_areas": null,
       "grid_template_columns": null,
       "grid_template_rows": null,
       "height": null,
       "justify_content": null,
       "justify_items": null,
       "left": null,
       "margin": null,
       "max_height": null,
       "max_width": null,
       "min_height": null,
       "min_width": null,
       "object_fit": null,
       "object_position": null,
       "order": null,
       "overflow": null,
       "padding": null,
       "right": null,
       "top": null,
       "visibility": null,
       "width": null
      }
     },
     "e75b874e9dce486992ac008ff623e88c": {
      "model_module": "@jupyter-widgets/base",
      "model_module_version": "2.0.0",
      "model_name": "LayoutModel",
      "state": {
       "_model_module": "@jupyter-widgets/base",
       "_model_module_version": "2.0.0",
       "_model_name": "LayoutModel",
       "_view_count": null,
       "_view_module": "@jupyter-widgets/base",
       "_view_module_version": "2.0.0",
       "_view_name": "LayoutView",
       "align_content": null,
       "align_items": null,
       "align_self": null,
       "border_bottom": null,
       "border_left": null,
       "border_right": null,
       "border_top": null,
       "bottom": null,
       "display": null,
       "flex": null,
       "flex_flow": null,
       "grid_area": null,
       "grid_auto_columns": null,
       "grid_auto_flow": null,
       "grid_auto_rows": null,
       "grid_column": null,
       "grid_gap": null,
       "grid_row": null,
       "grid_template_areas": null,
       "grid_template_columns": null,
       "grid_template_rows": null,
       "height": null,
       "justify_content": null,
       "justify_items": null,
       "left": null,
       "margin": null,
       "max_height": null,
       "max_width": null,
       "min_height": null,
       "min_width": null,
       "object_fit": null,
       "object_position": null,
       "order": null,
       "overflow": null,
       "padding": null,
       "right": null,
       "top": null,
       "visibility": null,
       "width": null
      }
     },
     "f91d05bf391a4f0eb7a59176d8e06fdc": {
      "model_module": "@jupyter-widgets/controls",
      "model_module_version": "2.0.0",
      "model_name": "ProgressStyleModel",
      "state": {
       "_model_module": "@jupyter-widgets/controls",
       "_model_module_version": "2.0.0",
       "_model_name": "ProgressStyleModel",
       "_view_count": null,
       "_view_module": "@jupyter-widgets/base",
       "_view_module_version": "2.0.0",
       "_view_name": "StyleView",
       "bar_color": null,
       "description_width": ""
      }
     }
    },
    "version_major": 2,
    "version_minor": 0
   }
  }
 },
 "nbformat": 4,
 "nbformat_minor": 5
}
